{
 "cells": [
  {
   "cell_type": "code",
   "execution_count": 6,
   "metadata": {},
   "outputs": [],
   "source": [
    "%config Completer.use_jedi = False"
   ]
  },
  {
   "cell_type": "code",
   "execution_count": 10,
   "metadata": {},
   "outputs": [],
   "source": [
    "import os\n",
    "import re\n",
    "import glob\n",
    "\n",
    "import numpy as np\n",
    "import pandas as pd\n",
    "\n",
    "import datefinder"
   ]
  },
  {
   "cell_type": "code",
   "execution_count": 22,
   "metadata": {},
   "outputs": [],
   "source": [
    "sessions = pd.concat([pd.read_csv(f) for f in glob.glob(\"exports/SESSION*.csv\")])\n",
    "recordings = pd.concat([pd.read_csv(f) for f in glob.glob(\"exports/RECORDING*.csv\")])\n",
    "players = pd.concat([pd.read_csv(f) for f in glob.glob(\"exports/PLAYER*.csv\")])\n",
    "releases = pd.concat([pd.read_csv(f) for f in glob.glob(\"exports/RELEASE*.csv\")])"
   ]
  },
  {
   "cell_type": "code",
   "execution_count": 23,
   "metadata": {},
   "outputs": [],
   "source": [
    "def try_date(x):\n",
    "    try:\n",
    "        dates = list(datefinder.find_dates(x))\n",
    "        if dates:\n",
    "            return dates[0]\n",
    "    except:\n",
    "        pass\n",
    "    \n",
    "    return np.nan\n",
    "\n",
    "sessions[\"date\"] = sessions.address_date.apply(try_date)"
   ]
  },
  {
   "cell_type": "code",
   "execution_count": 26,
   "metadata": {},
   "outputs": [],
   "source": [
    "writer = pd.ExcelWriter('jazz_discography_db.xlsx', engine='xlsxwriter')\n",
    "\n",
    "sessions.to_excel(writer, sheet_name='SESSION', index=False)\n",
    "recordings.to_excel(writer, sheet_name='RECORDING', index=False)\n",
    "players.to_excel(writer, sheet_name='PLAYER', index=False)\n",
    "releases.to_excel(writer, sheet_name='RELEASE', index=False)\n",
    "\n",
    "writer.save()"
   ]
  },
  {
   "cell_type": "code",
   "execution_count": null,
   "metadata": {},
   "outputs": [],
   "source": []
  }
 ],
 "metadata": {
  "kernelspec": {
   "display_name": "Python 3",
   "language": "python",
   "name": "python3"
  },
  "language_info": {
   "codemirror_mode": {
    "name": "ipython",
    "version": 3
   },
   "file_extension": ".py",
   "mimetype": "text/x-python",
   "name": "python",
   "nbconvert_exporter": "python",
   "pygments_lexer": "ipython3",
   "version": "3.8.8"
  }
 },
 "nbformat": 4,
 "nbformat_minor": 4
}
